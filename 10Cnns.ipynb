{
 "metadata": {
  "language_info": {
   "codemirror_mode": {
    "name": "ipython",
    "version": 3
   },
   "file_extension": ".py",
   "mimetype": "text/x-python",
   "name": "python",
   "nbconvert_exporter": "python",
   "pygments_lexer": "ipython3",
   "version": "3.8.5-final"
  },
  "orig_nbformat": 2,
  "kernelspec": {
   "name": "Python 3.8.5 64-bit",
   "display_name": "Python 3.8.5 64-bit",
   "metadata": {
    "interpreter": {
     "hash": "2db524e06e9f5f4ffedc911c917cb75e12dbc923643829bf417064a77eb14d37"
    }
   }
  }
 },
 "nbformat": 4,
 "nbformat_minor": 2,
 "cells": [
  {
   "cell_type": "code",
   "execution_count": 1,
   "metadata": {},
   "outputs": [
    {
     "output_type": "stream",
     "name": "stdout",
     "text": [
      "keras using tensorflow backend\n"
     ]
    }
   ],
   "source": [
    "# Run this!\n",
    "import warnings\n",
    "warnings.filterwarnings(\"ignore\")\n",
    "import tensorflow as tf\n",
    "import numpy as np\n",
    "import keras\n",
    "from keras.models import Sequential\n",
    "from keras.layers import Conv2D, Dense, Dropout, Flatten, MaxPooling2D\n",
    "print('keras using %s backend'%keras.backend.backend())\n",
    "import matplotlib.pyplot as graph\n",
    "%matplotlib inline\n",
    "graph.rcParams['figure.figsize'] = (15,5)\n",
    "graph.rcParams[\"font.family\"] = 'DejaVu Sans'\n",
    "graph.rcParams[\"font.size\"] = '12'\n",
    "graph.rcParams['image.cmap'] = 'rainbow'"
   ]
  },
  {
   "cell_type": "code",
   "execution_count": 3,
   "metadata": {},
   "outputs": [
    {
     "output_type": "stream",
     "name": "stdout",
     "text": [
      "train_X: (6400, 28, 28), train_Y: (6400,)\nvalid_X: (1600, 28, 28), valid_Y: (1600,)\ntest_X: (2000, 28, 28), test_Y: (2000,)\n"
     ]
    }
   ],
   "source": [
    "# Here we import the dataset, and split it into the training, validation, and test sets.\n",
    "from keras.datasets import mnist\n",
    "# This is our training data, with 6400 samples.\n",
    "###\n",
    "# REPLACE <addTrainX> WITH train_X AND <addTrainY> WITH train_Y\n",
    "###\n",
    "train_X = mnist.load_data()[0][0][:6400].astype('float32')\n",
    "train_Y = mnist.load_data()[0][1][:6400]\n",
    "###\n",
    "# This is our validation data, with 1600 samples.\n",
    "###\n",
    "# REPLACE <addValidX> WITH valid_X AND <addValidY> WITH valid_Y\n",
    "###\n",
    "valid_X = mnist.load_data()[1][0][:1600].astype('float32')\n",
    "valid_Y = mnist.load_data()[1][1][:1600]\n",
    "###\n",
    "# This is our test data, with 2000 samples.\n",
    "###\n",
    "# REPLACE <addTextX> WITH test_X AND <addTextY> WITH test_Y\n",
    "###\n",
    "test_X = mnist.load_data()[1][0][-2000:].astype('float32')\n",
    "test_Y = mnist.load_data()[1][1][-2000:]\n",
    "###\n",
    "print('train_X:', train_X.shape, end = '')\n",
    "print(', train_Y:', train_Y.shape)\n",
    "print('valid_X:', valid_X.shape, end = '')\n",
    "print(', valid_Y:', valid_Y.shape)\n",
    "print('test_X:', test_X.shape, end = '')\n",
    "print(', test_Y:', test_Y.shape)"
   ]
  },
  {
   "cell_type": "code",
   "execution_count": 8,
   "metadata": {},
   "outputs": [
    {
     "output_type": "display_data",
     "data": {
      "text/plain": "<Figure size 1080x360 with 1 Axes>",
      "image/svg+xml": "<?xml version=\"1.0\" encoding=\"utf-8\" standalone=\"no\"?>\r\n<!DOCTYPE svg PUBLIC \"-//W3C//DTD SVG 1.1//EN\"\r\n  \"http://www.w3.org/Graphics/SVG/1.1/DTD/svg11.dtd\">\r\n<!-- Created with matplotlib (https://matplotlib.org/) -->\r\n<svg height=\"304.81375pt\" version=\"1.1\" viewBox=\"0 0 308.47 304.81375\" width=\"308.47pt\" xmlns=\"http://www.w3.org/2000/svg\" xmlns:xlink=\"http://www.w3.org/1999/xlink\">\r\n <metadata>\r\n  <rdf:RDF xmlns:cc=\"http://creativecommons.org/ns#\" xmlns:dc=\"http://purl.org/dc/elements/1.1/\" xmlns:rdf=\"http://www.w3.org/1999/02/22-rdf-syntax-ns#\">\r\n   <cc:Work>\r\n    <dc:type rdf:resource=\"http://purl.org/dc/dcmitype/StillImage\"/>\r\n    <dc:date>2020-10-24T01:03:05.223208</dc:date>\r\n    <dc:format>image/svg+xml</dc:format>\r\n    <dc:creator>\r\n     <cc:Agent>\r\n      <dc:title>Matplotlib v3.3.2, https://matplotlib.org/</dc:title>\r\n     </cc:Agent>\r\n    </dc:creator>\r\n   </cc:Work>\r\n  </rdf:RDF>\r\n </metadata>\r\n <defs>\r\n  <style type=\"text/css\">*{stroke-linecap:butt;stroke-linejoin:round;}</style>\r\n </defs>\r\n <g id=\"figure_1\">\r\n  <g id=\"patch_1\">\r\n   <path d=\"M 0 304.81375 \r\nL 308.47 304.81375 \r\nL 308.47 0 \r\nL 0 0 \r\nz\r\n\" style=\"fill:none;\"/>\r\n  </g>\r\n  <g id=\"axes_1\">\r\n   <g id=\"patch_2\">\r\n    <path d=\"M 29.47 279 \r\nL 301.27 279 \r\nL 301.27 7.2 \r\nL 29.47 7.2 \r\nz\r\n\" style=\"fill:#ffffff;\"/>\r\n   </g>\r\n   <g clip-path=\"url(#pd4d73f330e)\">\r\n    <image height=\"272\" id=\"image168efb041a\" transform=\"scale(1 -1)translate(0 -272)\" width=\"272\" x=\"29.47\" xlink:href=\"data:image/png;base64,\r\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\" y=\"-7\"/>\r\n   </g>\r\n   <g id=\"matplotlib.axis_1\">\r\n    <g id=\"xtick_1\">\r\n     <g id=\"line2d_1\">\r\n      <defs>\r\n       <path d=\"M 0 0 \r\nL 0 3.5 \r\n\" id=\"m19650abb70\" style=\"stroke:#000000;stroke-width:0.8;\"/>\r\n      </defs>\r\n      <g>\r\n       <use style=\"stroke:#000000;stroke-width:0.8;\" x=\"34.323571\" xlink:href=\"#m19650abb70\" y=\"279\"/>\r\n      </g>\r\n     </g>\r\n     <g id=\"text_1\">\r\n      <!-- 0 -->\r\n      <g transform=\"translate(30.506071 295.118125)scale(0.12 -0.12)\">\r\n       <defs>\r\n        <path d=\"M 31.78125 66.40625 \r\nQ 24.171875 66.40625 20.328125 58.90625 \r\nQ 16.5 51.421875 16.5 36.375 \r\nQ 16.5 21.390625 20.328125 13.890625 \r\nQ 24.171875 6.390625 31.78125 6.390625 \r\nQ 39.453125 6.390625 43.28125 13.890625 \r\nQ 47.125 21.390625 47.125 36.375 \r\nQ 47.125 51.421875 43.28125 58.90625 \r\nQ 39.453125 66.40625 31.78125 66.40625 \r\nz\r\nM 31.78125 74.21875 \r\nQ 44.046875 74.21875 50.515625 64.515625 \r\nQ 56.984375 54.828125 56.984375 36.375 \r\nQ 56.984375 17.96875 50.515625 8.265625 \r\nQ 44.046875 -1.421875 31.78125 -1.421875 \r\nQ 19.53125 -1.421875 13.0625 8.265625 \r\nQ 6.59375 17.96875 6.59375 36.375 \r\nQ 6.59375 54.828125 13.0625 64.515625 \r\nQ 19.53125 74.21875 31.78125 74.21875 \r\nz\r\n\" id=\"DejaVuSans-48\"/>\r\n       </defs>\r\n       <use xlink:href=\"#DejaVuSans-48\"/>\r\n      </g>\r\n     </g>\r\n    </g>\r\n    <g id=\"xtick_2\">\r\n     <g id=\"line2d_2\">\r\n      <g>\r\n       <use style=\"stroke:#000000;stroke-width:0.8;\" x=\"82.859286\" xlink:href=\"#m19650abb70\" y=\"279\"/>\r\n      </g>\r\n     </g>\r\n     <g id=\"text_2\">\r\n      <!-- 5 -->\r\n      <g transform=\"translate(79.041786 295.118125)scale(0.12 -0.12)\">\r\n       <defs>\r\n        <path d=\"M 10.796875 72.90625 \r\nL 49.515625 72.90625 \r\nL 49.515625 64.59375 \r\nL 19.828125 64.59375 \r\nL 19.828125 46.734375 \r\nQ 21.96875 47.46875 24.109375 47.828125 \r\nQ 26.265625 48.1875 28.421875 48.1875 \r\nQ 40.625 48.1875 47.75 41.5 \r\nQ 54.890625 34.8125 54.890625 23.390625 \r\nQ 54.890625 11.625 47.5625 5.09375 \r\nQ 40.234375 -1.421875 26.90625 -1.421875 \r\nQ 22.3125 -1.421875 17.546875 -0.640625 \r\nQ 12.796875 0.140625 7.71875 1.703125 \r\nL 7.71875 11.625 \r\nQ 12.109375 9.234375 16.796875 8.0625 \r\nQ 21.484375 6.890625 26.703125 6.890625 \r\nQ 35.15625 6.890625 40.078125 11.328125 \r\nQ 45.015625 15.765625 45.015625 23.390625 \r\nQ 45.015625 31 40.078125 35.4375 \r\nQ 35.15625 39.890625 26.703125 39.890625 \r\nQ 22.75 39.890625 18.8125 39.015625 \r\nQ 14.890625 38.140625 10.796875 36.28125 \r\nz\r\n\" id=\"DejaVuSans-53\"/>\r\n       </defs>\r\n       <use xlink:href=\"#DejaVuSans-53\"/>\r\n      </g>\r\n     </g>\r\n    </g>\r\n    <g id=\"xtick_3\">\r\n     <g id=\"line2d_3\">\r\n      <g>\r\n       <use style=\"stroke:#000000;stroke-width:0.8;\" x=\"131.395\" xlink:href=\"#m19650abb70\" y=\"279\"/>\r\n      </g>\r\n     </g>\r\n     <g id=\"text_3\">\r\n      <!-- 10 -->\r\n      <g transform=\"translate(123.76 295.118125)scale(0.12 -0.12)\">\r\n       <defs>\r\n        <path d=\"M 12.40625 8.296875 \r\nL 28.515625 8.296875 \r\nL 28.515625 63.921875 \r\nL 10.984375 60.40625 \r\nL 10.984375 69.390625 \r\nL 28.421875 72.90625 \r\nL 38.28125 72.90625 \r\nL 38.28125 8.296875 \r\nL 54.390625 8.296875 \r\nL 54.390625 0 \r\nL 12.40625 0 \r\nz\r\n\" id=\"DejaVuSans-49\"/>\r\n       </defs>\r\n       <use xlink:href=\"#DejaVuSans-49\"/>\r\n       <use x=\"63.623047\" xlink:href=\"#DejaVuSans-48\"/>\r\n      </g>\r\n     </g>\r\n    </g>\r\n    <g id=\"xtick_4\">\r\n     <g id=\"line2d_4\">\r\n      <g>\r\n       <use style=\"stroke:#000000;stroke-width:0.8;\" x=\"179.930714\" xlink:href=\"#m19650abb70\" y=\"279\"/>\r\n      </g>\r\n     </g>\r\n     <g id=\"text_4\">\r\n      <!-- 15 -->\r\n      <g transform=\"translate(172.295714 295.118125)scale(0.12 -0.12)\">\r\n       <use xlink:href=\"#DejaVuSans-49\"/>\r\n       <use x=\"63.623047\" xlink:href=\"#DejaVuSans-53\"/>\r\n      </g>\r\n     </g>\r\n    </g>\r\n    <g id=\"xtick_5\">\r\n     <g id=\"line2d_5\">\r\n      <g>\r\n       <use style=\"stroke:#000000;stroke-width:0.8;\" x=\"228.466429\" xlink:href=\"#m19650abb70\" y=\"279\"/>\r\n      </g>\r\n     </g>\r\n     <g id=\"text_5\">\r\n      <!-- 20 -->\r\n      <g transform=\"translate(220.831429 295.118125)scale(0.12 -0.12)\">\r\n       <defs>\r\n        <path d=\"M 19.1875 8.296875 \r\nL 53.609375 8.296875 \r\nL 53.609375 0 \r\nL 7.328125 0 \r\nL 7.328125 8.296875 \r\nQ 12.9375 14.109375 22.625 23.890625 \r\nQ 32.328125 33.6875 34.8125 36.53125 \r\nQ 39.546875 41.84375 41.421875 45.53125 \r\nQ 43.3125 49.21875 43.3125 52.78125 \r\nQ 43.3125 58.59375 39.234375 62.25 \r\nQ 35.15625 65.921875 28.609375 65.921875 \r\nQ 23.96875 65.921875 18.8125 64.3125 \r\nQ 13.671875 62.703125 7.8125 59.421875 \r\nL 7.8125 69.390625 \r\nQ 13.765625 71.78125 18.9375 73 \r\nQ 24.125 74.21875 28.421875 74.21875 \r\nQ 39.75 74.21875 46.484375 68.546875 \r\nQ 53.21875 62.890625 53.21875 53.421875 \r\nQ 53.21875 48.921875 51.53125 44.890625 \r\nQ 49.859375 40.875 45.40625 35.40625 \r\nQ 44.1875 33.984375 37.640625 27.21875 \r\nQ 31.109375 20.453125 19.1875 8.296875 \r\nz\r\n\" id=\"DejaVuSans-50\"/>\r\n       </defs>\r\n       <use xlink:href=\"#DejaVuSans-50\"/>\r\n       <use x=\"63.623047\" xlink:href=\"#DejaVuSans-48\"/>\r\n      </g>\r\n     </g>\r\n    </g>\r\n    <g id=\"xtick_6\">\r\n     <g id=\"line2d_6\">\r\n      <g>\r\n       <use style=\"stroke:#000000;stroke-width:0.8;\" x=\"277.002143\" xlink:href=\"#m19650abb70\" y=\"279\"/>\r\n      </g>\r\n     </g>\r\n     <g id=\"text_6\">\r\n      <!-- 25 -->\r\n      <g transform=\"translate(269.367143 295.118125)scale(0.12 -0.12)\">\r\n       <use xlink:href=\"#DejaVuSans-50\"/>\r\n       <use x=\"63.623047\" xlink:href=\"#DejaVuSans-53\"/>\r\n      </g>\r\n     </g>\r\n    </g>\r\n   </g>\r\n   <g id=\"matplotlib.axis_2\">\r\n    <g id=\"ytick_1\">\r\n     <g id=\"line2d_7\">\r\n      <defs>\r\n       <path d=\"M 0 0 \r\nL -3.5 0 \r\n\" id=\"m3f2d9f698a\" style=\"stroke:#000000;stroke-width:0.8;\"/>\r\n      </defs>\r\n      <g>\r\n       <use style=\"stroke:#000000;stroke-width:0.8;\" x=\"29.47\" xlink:href=\"#m3f2d9f698a\" y=\"12.053571\"/>\r\n      </g>\r\n     </g>\r\n     <g id=\"text_7\">\r\n      <!-- 0 -->\r\n      <g transform=\"translate(14.835 16.612634)scale(0.12 -0.12)\">\r\n       <use xlink:href=\"#DejaVuSans-48\"/>\r\n      </g>\r\n     </g>\r\n    </g>\r\n    <g id=\"ytick_2\">\r\n     <g id=\"line2d_8\">\r\n      <g>\r\n       <use style=\"stroke:#000000;stroke-width:0.8;\" x=\"29.47\" xlink:href=\"#m3f2d9f698a\" y=\"60.589286\"/>\r\n      </g>\r\n     </g>\r\n     <g id=\"text_8\">\r\n      <!-- 5 -->\r\n      <g transform=\"translate(14.835 65.148348)scale(0.12 -0.12)\">\r\n       <use xlink:href=\"#DejaVuSans-53\"/>\r\n      </g>\r\n     </g>\r\n    </g>\r\n    <g id=\"ytick_3\">\r\n     <g id=\"line2d_9\">\r\n      <g>\r\n       <use style=\"stroke:#000000;stroke-width:0.8;\" x=\"29.47\" xlink:href=\"#m3f2d9f698a\" y=\"109.125\"/>\r\n      </g>\r\n     </g>\r\n     <g id=\"text_9\">\r\n      <!-- 10 -->\r\n      <g transform=\"translate(7.2 113.684062)scale(0.12 -0.12)\">\r\n       <use xlink:href=\"#DejaVuSans-49\"/>\r\n       <use x=\"63.623047\" xlink:href=\"#DejaVuSans-48\"/>\r\n      </g>\r\n     </g>\r\n    </g>\r\n    <g id=\"ytick_4\">\r\n     <g id=\"line2d_10\">\r\n      <g>\r\n       <use style=\"stroke:#000000;stroke-width:0.8;\" x=\"29.47\" xlink:href=\"#m3f2d9f698a\" y=\"157.660714\"/>\r\n      </g>\r\n     </g>\r\n     <g id=\"text_10\">\r\n      <!-- 15 -->\r\n      <g transform=\"translate(7.2 162.219777)scale(0.12 -0.12)\">\r\n       <use xlink:href=\"#DejaVuSans-49\"/>\r\n       <use x=\"63.623047\" xlink:href=\"#DejaVuSans-53\"/>\r\n      </g>\r\n     </g>\r\n    </g>\r\n    <g id=\"ytick_5\">\r\n     <g id=\"line2d_11\">\r\n      <g>\r\n       <use style=\"stroke:#000000;stroke-width:0.8;\" x=\"29.47\" xlink:href=\"#m3f2d9f698a\" y=\"206.196429\"/>\r\n      </g>\r\n     </g>\r\n     <g id=\"text_11\">\r\n      <!-- 20 -->\r\n      <g transform=\"translate(7.2 210.755491)scale(0.12 -0.12)\">\r\n       <use xlink:href=\"#DejaVuSans-50\"/>\r\n       <use x=\"63.623047\" xlink:href=\"#DejaVuSans-48\"/>\r\n      </g>\r\n     </g>\r\n    </g>\r\n    <g id=\"ytick_6\">\r\n     <g id=\"line2d_12\">\r\n      <g>\r\n       <use style=\"stroke:#000000;stroke-width:0.8;\" x=\"29.47\" xlink:href=\"#m3f2d9f698a\" y=\"254.732143\"/>\r\n      </g>\r\n     </g>\r\n     <g id=\"text_12\">\r\n      <!-- 25 -->\r\n      <g transform=\"translate(7.2 259.291205)scale(0.12 -0.12)\">\r\n       <use xlink:href=\"#DejaVuSans-50\"/>\r\n       <use x=\"63.623047\" xlink:href=\"#DejaVuSans-53\"/>\r\n      </g>\r\n     </g>\r\n    </g>\r\n   </g>\r\n   <g id=\"patch_3\">\r\n    <path d=\"M 29.47 279 \r\nL 29.47 7.2 \r\n\" style=\"fill:none;stroke:#000000;stroke-linecap:square;stroke-linejoin:miter;stroke-width:0.8;\"/>\r\n   </g>\r\n   <g id=\"patch_4\">\r\n    <path d=\"M 301.27 279 \r\nL 301.27 7.2 \r\n\" style=\"fill:none;stroke:#000000;stroke-linecap:square;stroke-linejoin:miter;stroke-width:0.8;\"/>\r\n   </g>\r\n   <g id=\"patch_5\">\r\n    <path d=\"M 29.47 279 \r\nL 301.27 279 \r\n\" style=\"fill:none;stroke:#000000;stroke-linecap:square;stroke-linejoin:miter;stroke-width:0.8;\"/>\r\n   </g>\r\n   <g id=\"patch_6\">\r\n    <path d=\"M 29.47 7.2 \r\nL 301.27 7.2 \r\n\" style=\"fill:none;stroke:#000000;stroke-linecap:square;stroke-linejoin:miter;stroke-width:0.8;\"/>\r\n   </g>\r\n  </g>\r\n </g>\r\n <defs>\r\n  <clipPath id=\"pd4d73f330e\">\r\n   <rect height=\"271.8\" width=\"271.8\" x=\"29.47\" y=\"7.2\"/>\r\n  </clipPath>\r\n </defs>\r\n</svg>\r\n",
      "image/png": "[encoded data removed]"
     },
     "metadata": {
      "needs_background": "light"
     }
    }
   ],
   "source": [
    "###\n",
    "# REPLACE THE <addSample> BELOW WITH train_X[0] OR ANOTHER SAMPLE e.g. train_X[1] or train_X[2]\n",
    "###\n",
    "graph.imshow(train_X[0], cmap = 'gray', interpolation = 'nearest')\n",
    "###\n",
    "graph.show()"
   ]
  },
  {
   "cell_type": "code",
   "execution_count": 9,
   "metadata": {},
   "outputs": [
    {
     "output_type": "stream",
     "name": "stdout",
     "text": [
      "5\n"
     ]
    }
   ],
   "source": [
    "# First off, let's reshape our X sets so that they fit the convolutional layers.\n",
    "# This gets the image dimensions - 28\n",
    "dim = train_X[0].shape[0]\n",
    "###\n",
    "# REPLACE THE <addRehape> BELOW WITH reshape\n",
    "###\n",
    "train_X = train_X.reshape(train_X.shape[0], dim, dim, 1)\n",
    "valid_X = valid_X.reshape(valid_X.shape[0], dim, dim, 1)\n",
    "test_X = test_X.reshape(test_X.shape[0], dim, dim, 1)\n",
    "###\n",
    "# Next up - feature scaling.\n",
    "# We scale the values so they are between 0 and 1, instead of 0 and 255.\n",
    "###\n",
    "# REPLACE THE <completeCalculation> BELOW WITH /255\n",
    "###\n",
    "train_X = train_X /255\n",
    "valid_X = valid_X /255\n",
    "test_X = test_X /255\n",
    "###\n",
    "# Now we print the label for the first example\n",
    "print(train_Y[0])"
   ]
  },
  {
   "cell_type": "code",
   "execution_count": 10,
   "metadata": {},
   "outputs": [
    {
     "output_type": "stream",
     "name": "stdout",
     "text": [
      "[0. 0. 0. 0. 0. 1. 0. 0. 0. 0.]\n"
     ]
    }
   ],
   "source": [
    "###\n",
    "# REPLACE THE <addCategorical> BELOW WITH to_categorical\n",
    "###\n",
    "train_Y = keras.utils.to_categorical(train_Y, 10)\n",
    "valid_Y = keras.utils.to_categorical(valid_Y, 10)\n",
    "test_Y = keras.utils.to_categorical(test_Y, 10)\n",
    "###\n",
    "# 10 being the number of categories (numbers 0 to 9)\n",
    "print(train_Y[0])"
   ]
  },
  {
   "cell_type": "code",
   "execution_count": 11,
   "metadata": {},
   "outputs": [],
   "source": [
    "# Sets a randomisation seed for replicatability.\n",
    "np.random.seed(6)\n",
    "###\n",
    "# REPLACE THE <addSequential> BELOW WITH Sequential() (don't forget the () )\n",
    "###\n",
    "model = Sequential()\n",
    "###"
   ]
  },
  {
   "cell_type": "code",
   "execution_count": 12,
   "metadata": {},
   "outputs": [],
   "source": [
    "###\n",
    "# REPLACE THE <addConv2D> BELOW WITH Conv2D\n",
    "###\n",
    "model.add(Conv2D(28, kernel_size = (3, 3), activation = 'relu', input_shape = (dim, dim, 1)))\n",
    "model.add(Conv2D(56, (3, 3), activation = 'relu'))\n",
    "###"
   ]
  },
  {
   "cell_type": "code",
   "execution_count": 13,
   "metadata": {},
   "outputs": [],
   "source": [
    "# Pooling layers help speed up training time and make features it detects more robust.\n",
    "# They act by downsampling the data - reducing the data size and complexity.\n",
    "###\n",
    "# REPLACE THE <addMaxPooling2D> BELOW WITH MaxPooling2D\n",
    "###\n",
    "model.add(MaxPooling2D(pool_size = (2, 2)))\n",
    "###\n",
    "# Dropout is a technique to help prevent overfitting\n",
    "# It makes nodes 'dropout' - turning them off randomly.\n",
    "###\n",
    "# REPLACE THE <addDropout> BELOW WITH Dropout\n",
    "###\n",
    "model.add(Dropout(0.125))\n",
    "###\n",
    "###\n",
    "# REPLACE THE <addFlatten> BELOW WITH Flatten()\n",
    "###\n",
    "model.add(Flatten())\n",
    "###"
   ]
  },
  {
   "cell_type": "code",
   "execution_count": 14,
   "metadata": {},
   "outputs": [],
   "source": [
    "# Dense layers perform classification - we have extracted the features with the convolutional pre-processing\n",
    "model.add(Dense(128, activation='relu'))\n",
    "# More dropout!\n",
    "model.add(Dropout(0.25))\n",
    "# Next is our output layer\n",
    "# Softmax outputs the probability for each category\n",
    "###\n",
    "# REPLACE <updateHere> BELOW WITH 10, THE NUMBER OF CLASSES (DIGITS 0 TO 9)\n",
    "###\n",
    "model.add(Dense(10, activation=tf.nn.softmax))\n",
    "###\n",
    "# And finally, we compile.\n",
    "model.compile(loss='categorical_crossentropy', optimizer='Adamax', metrics=['accuracy'])"
   ]
  },
  {
   "cell_type": "code",
   "execution_count": 15,
   "metadata": {},
   "outputs": [
    {
     "output_type": "stream",
     "name": "stdout",
     "text": [
      "Epoch 1/12\n",
      "50/50 [==============================] - 24s 479ms/step - loss: 0.8704 - accuracy: 0.7503 - val_loss: 0.4665 - val_accuracy: 0.8612\n",
      "Epoch 2/12\n",
      "50/50 [==============================] - 21s 413ms/step - loss: 0.3277 - accuracy: 0.9064 - val_loss: 0.3236 - val_accuracy: 0.9056\n",
      "Epoch 3/12\n",
      "50/50 [==============================] - 25s 508ms/step - loss: 0.2397 - accuracy: 0.9330 - val_loss: 0.2794 - val_accuracy: 0.9162\n",
      "Epoch 4/12\n",
      "50/50 [==============================] - 21s 414ms/step - loss: 0.1893 - accuracy: 0.9441 - val_loss: 0.2114 - val_accuracy: 0.9381\n",
      "Epoch 5/12\n",
      "50/50 [==============================] - 21s 420ms/step - loss: 0.1499 - accuracy: 0.9555 - val_loss: 0.1803 - val_accuracy: 0.9431\n",
      "Epoch 6/12\n",
      "50/50 [==============================] - 20s 408ms/step - loss: 0.1206 - accuracy: 0.9647 - val_loss: 0.1672 - val_accuracy: 0.9500\n",
      "Epoch 7/12\n",
      "50/50 [==============================] - 20s 394ms/step - loss: 0.1050 - accuracy: 0.9705 - val_loss: 0.1448 - val_accuracy: 0.9538\n",
      "Epoch 8/12\n",
      "50/50 [==============================] - 20s 403ms/step - loss: 0.0854 - accuracy: 0.9750 - val_loss: 0.1313 - val_accuracy: 0.9575\n",
      "Epoch 9/12\n",
      "50/50 [==============================] - 20s 399ms/step - loss: 0.0742 - accuracy: 0.9781 - val_loss: 0.1269 - val_accuracy: 0.9581\n",
      "Epoch 10/12\n",
      "50/50 [==============================] - 20s 397ms/step - loss: 0.0671 - accuracy: 0.9797 - val_loss: 0.1169 - val_accuracy: 0.9613\n",
      "Epoch 11/12\n",
      "50/50 [==============================] - 21s 411ms/step - loss: 0.0590 - accuracy: 0.9827 - val_loss: 0.1086 - val_accuracy: 0.9606\n",
      "Epoch 12/12\n",
      "50/50 [==============================] - 20s 408ms/step - loss: 0.0472 - accuracy: 0.9872 - val_loss: 0.1102 - val_accuracy: 0.9600\n",
      "Test Set Evaluation: loss = 0.065750, accuracy = 98.25\n"
     ]
    },
    {
     "output_type": "error",
     "ename": "KeyError",
     "evalue": "'acc'",
     "traceback": [
      "\u001b[1;31m---------------------------------------------------------------------------\u001b[0m",
      "\u001b[1;31mKeyError\u001b[0m                                  Traceback (most recent call last)",
      "\u001b[1;32m<ipython-input-15-b20a9e80814d>\u001b[0m in \u001b[0;36m<module>\u001b[1;34m\u001b[0m\n\u001b[0;32m     11\u001b[0m \u001b[0mprint\u001b[0m\u001b[1;33m(\u001b[0m\u001b[1;34m'Test Set Evaluation: loss = %0.6f, accuracy = %0.2f'\u001b[0m \u001b[1;33m%\u001b[0m\u001b[1;33m(\u001b[0m\u001b[0mevaluation\u001b[0m\u001b[1;33m[\u001b[0m\u001b[1;36m0\u001b[0m\u001b[1;33m]\u001b[0m\u001b[1;33m,\u001b[0m \u001b[1;36m100\u001b[0m \u001b[1;33m*\u001b[0m \u001b[0mevaluation\u001b[0m\u001b[1;33m[\u001b[0m\u001b[1;36m1\u001b[0m\u001b[1;33m]\u001b[0m\u001b[1;33m)\u001b[0m\u001b[1;33m)\u001b[0m\u001b[1;33m\u001b[0m\u001b[1;33m\u001b[0m\u001b[0m\n\u001b[0;32m     12\u001b[0m \u001b[1;31m# We can plot our training statistics to see how it developed over time\u001b[0m\u001b[1;33m\u001b[0m\u001b[1;33m\u001b[0m\u001b[1;33m\u001b[0m\u001b[0m\n\u001b[1;32m---> 13\u001b[1;33m \u001b[0maccuracy\u001b[0m\u001b[1;33m,\u001b[0m \u001b[1;33m=\u001b[0m \u001b[0mgraph\u001b[0m\u001b[1;33m.\u001b[0m\u001b[0mplot\u001b[0m\u001b[1;33m(\u001b[0m\u001b[0mtraining_stats\u001b[0m\u001b[1;33m.\u001b[0m\u001b[0mhistory\u001b[0m\u001b[1;33m[\u001b[0m\u001b[1;34m'acc'\u001b[0m\u001b[1;33m]\u001b[0m\u001b[1;33m,\u001b[0m \u001b[0mlabel\u001b[0m \u001b[1;33m=\u001b[0m \u001b[1;34m'Accuracy'\u001b[0m\u001b[1;33m)\u001b[0m\u001b[1;33m\u001b[0m\u001b[1;33m\u001b[0m\u001b[0m\n\u001b[0m\u001b[0;32m     14\u001b[0m \u001b[0mtraining_loss\u001b[0m\u001b[1;33m,\u001b[0m \u001b[1;33m=\u001b[0m \u001b[0mgraph\u001b[0m\u001b[1;33m.\u001b[0m\u001b[0mplot\u001b[0m\u001b[1;33m(\u001b[0m\u001b[0mtraining_stats\u001b[0m\u001b[1;33m.\u001b[0m\u001b[0mhistory\u001b[0m\u001b[1;33m[\u001b[0m\u001b[1;34m'loss'\u001b[0m\u001b[1;33m]\u001b[0m\u001b[1;33m,\u001b[0m \u001b[0mlabel\u001b[0m \u001b[1;33m=\u001b[0m \u001b[1;34m'Training Loss'\u001b[0m\u001b[1;33m)\u001b[0m\u001b[1;33m\u001b[0m\u001b[1;33m\u001b[0m\u001b[0m\n\u001b[0;32m     15\u001b[0m \u001b[0mgraph\u001b[0m\u001b[1;33m.\u001b[0m\u001b[0mlegend\u001b[0m\u001b[1;33m(\u001b[0m\u001b[0mhandles\u001b[0m \u001b[1;33m=\u001b[0m \u001b[1;33m[\u001b[0m\u001b[0maccuracy\u001b[0m\u001b[1;33m,\u001b[0m \u001b[0mtraining_loss\u001b[0m\u001b[1;33m]\u001b[0m\u001b[1;33m)\u001b[0m\u001b[1;33m\u001b[0m\u001b[1;33m\u001b[0m\u001b[0m\n",
      "\u001b[1;31mKeyError\u001b[0m: 'acc'"
     ]
    }
   ],
   "source": [
    "###\n",
    "# REPLACE THE <addTrainX> WITH train_X, <addTrainY> WITH train_Y, <addValidX> WITH valid_X, AND <addValidY> WITH valid_Y\n",
    "###\n",
    "training_stats = model.fit(train_X, train_Y, batch_size = 128, epochs = 12, verbose = 1, validation_data = (valid_X, valid_Y))\n",
    "###\n",
    "###\n",
    "# REPLACE THE <addEvaluate> BELOW WITH evaluate\n",
    "###\n",
    "evaluation = model.evaluate(test_X, test_Y, verbose=0)\n",
    "###\n",
    "print('Test Set Evaluation: loss = %0.6f, accuracy = %0.2f' %(evaluation[0], 100 * evaluation[1]))\n",
    "# We can plot our training statistics to see how it developed over time\n",
    "accuracy, = graph.plot(training_stats.history['acc'], label = 'Accuracy')\n",
    "training_loss, = graph.plot(training_stats.history['loss'], label = 'Training Loss')\n",
    "graph.legend(handles = [accuracy, training_loss])\n",
    "loss = np.array(training_stats.history['loss'])\n",
    "xp = np.linspace(0,loss.shape[0],10 * loss.shape[0])\n",
    "graph.plot(xp, np.full(xp.shape, 1), c = 'k', linestyle = ':', alpha = 0.5)\n",
    "graph.plot(xp, np.full(xp.shape, 0), c = 'k', linestyle = ':', alpha = 0.5)\n",
    "graph.show()"
   ]
  },
  {
   "cell_type": "code",
   "execution_count": 18,
   "metadata": {},
   "outputs": [
    {
     "output_type": "display_data",
     "data": {
      "text/plain": "<Figure size 1080x360 with 1 Axes>",
      "image/svg+xml": "<?xml version=\"1.0\" encoding=\"utf-8\" standalone=\"no\"?>\r\n<!DOCTYPE svg PUBLIC \"-//W3C//DTD SVG 1.1//EN\"\r\n  \"http://www.w3.org/Graphics/SVG/1.1/DTD/svg11.dtd\">\r\n<!-- Created with matplotlib (https://matplotlib.org/) -->\r\n<svg height=\"304.81375pt\" version=\"1.1\" viewBox=\"0 0 308.47 304.81375\" width=\"308.47pt\" xmlns=\"http://www.w3.org/2000/svg\" xmlns:xlink=\"http://www.w3.org/1999/xlink\">\r\n <metadata>\r\n  <rdf:RDF xmlns:cc=\"http://creativecommons.org/ns#\" xmlns:dc=\"http://purl.org/dc/elements/1.1/\" xmlns:rdf=\"http://www.w3.org/1999/02/22-rdf-syntax-ns#\">\r\n   <cc:Work>\r\n    <dc:type rdf:resource=\"http://purl.org/dc/dcmitype/StillImage\"/>\r\n    <dc:date>2020-10-24T01:29:46.454298</dc:date>\r\n    <dc:format>image/svg+xml</dc:format>\r\n    <dc:creator>\r\n     <cc:Agent>\r\n      <dc:title>Matplotlib v3.3.2, https://matplotlib.org/</dc:title>\r\n     </cc:Agent>\r\n    </dc:creator>\r\n   </cc:Work>\r\n  </rdf:RDF>\r\n </metadata>\r\n <defs>\r\n  <style type=\"text/css\">*{stroke-linecap:butt;stroke-linejoin:round;}</style>\r\n </defs>\r\n <g id=\"figure_1\">\r\n  <g id=\"patch_1\">\r\n   <path d=\"M 0 304.81375 \r\nL 308.47 304.81375 \r\nL 308.47 0 \r\nL 0 0 \r\nz\r\n\" style=\"fill:none;\"/>\r\n  </g>\r\n  <g id=\"axes_1\">\r\n   <g id=\"patch_2\">\r\n    <path d=\"M 29.47 279 \r\nL 301.27 279 \r\nL 301.27 7.2 \r\nL 29.47 7.2 \r\nz\r\n\" style=\"fill:#ffffff;\"/>\r\n   </g>\r\n   <g clip-path=\"url(#p7b39f2f909)\">\r\n    <image height=\"272\" id=\"imageaca087c136\" transform=\"scale(1 -1)translate(0 -272)\" width=\"272\" x=\"29.47\" xlink:href=\"data:image/png;base64,\r\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\" y=\"-7\"/>\r\n   </g>\r\n   <g id=\"matplotlib.axis_1\">\r\n    <g id=\"xtick_1\">\r\n     <g id=\"line2d_1\">\r\n      <defs>\r\n       <path d=\"M 0 0 \r\nL 0 3.5 \r\n\" id=\"mb38d57d837\" style=\"stroke:#000000;stroke-width:0.8;\"/>\r\n      </defs>\r\n      <g>\r\n       <use style=\"stroke:#000000;stroke-width:0.8;\" x=\"34.323571\" xlink:href=\"#mb38d57d837\" y=\"279\"/>\r\n      </g>\r\n     </g>\r\n     <g id=\"text_1\">\r\n      <!-- 0 -->\r\n      <g transform=\"translate(30.506071 295.118125)scale(0.12 -0.12)\">\r\n       <defs>\r\n        <path d=\"M 31.78125 66.40625 \r\nQ 24.171875 66.40625 20.328125 58.90625 \r\nQ 16.5 51.421875 16.5 36.375 \r\nQ 16.5 21.390625 20.328125 13.890625 \r\nQ 24.171875 6.390625 31.78125 6.390625 \r\nQ 39.453125 6.390625 43.28125 13.890625 \r\nQ 47.125 21.390625 47.125 36.375 \r\nQ 47.125 51.421875 43.28125 58.90625 \r\nQ 39.453125 66.40625 31.78125 66.40625 \r\nz\r\nM 31.78125 74.21875 \r\nQ 44.046875 74.21875 50.515625 64.515625 \r\nQ 56.984375 54.828125 56.984375 36.375 \r\nQ 56.984375 17.96875 50.515625 8.265625 \r\nQ 44.046875 -1.421875 31.78125 -1.421875 \r\nQ 19.53125 -1.421875 13.0625 8.265625 \r\nQ 6.59375 17.96875 6.59375 36.375 \r\nQ 6.59375 54.828125 13.0625 64.515625 \r\nQ 19.53125 74.21875 31.78125 74.21875 \r\nz\r\n\" id=\"DejaVuSans-48\"/>\r\n       </defs>\r\n       <use xlink:href=\"#DejaVuSans-48\"/>\r\n      </g>\r\n     </g>\r\n    </g>\r\n    <g id=\"xtick_2\">\r\n     <g id=\"line2d_2\">\r\n      <g>\r\n       <use style=\"stroke:#000000;stroke-width:0.8;\" x=\"82.859286\" xlink:href=\"#mb38d57d837\" y=\"279\"/>\r\n      </g>\r\n     </g>\r\n     <g id=\"text_2\">\r\n      <!-- 5 -->\r\n      <g transform=\"translate(79.041786 295.118125)scale(0.12 -0.12)\">\r\n       <defs>\r\n        <path d=\"M 10.796875 72.90625 \r\nL 49.515625 72.90625 \r\nL 49.515625 64.59375 \r\nL 19.828125 64.59375 \r\nL 19.828125 46.734375 \r\nQ 21.96875 47.46875 24.109375 47.828125 \r\nQ 26.265625 48.1875 28.421875 48.1875 \r\nQ 40.625 48.1875 47.75 41.5 \r\nQ 54.890625 34.8125 54.890625 23.390625 \r\nQ 54.890625 11.625 47.5625 5.09375 \r\nQ 40.234375 -1.421875 26.90625 -1.421875 \r\nQ 22.3125 -1.421875 17.546875 -0.640625 \r\nQ 12.796875 0.140625 7.71875 1.703125 \r\nL 7.71875 11.625 \r\nQ 12.109375 9.234375 16.796875 8.0625 \r\nQ 21.484375 6.890625 26.703125 6.890625 \r\nQ 35.15625 6.890625 40.078125 11.328125 \r\nQ 45.015625 15.765625 45.015625 23.390625 \r\nQ 45.015625 31 40.078125 35.4375 \r\nQ 35.15625 39.890625 26.703125 39.890625 \r\nQ 22.75 39.890625 18.8125 39.015625 \r\nQ 14.890625 38.140625 10.796875 36.28125 \r\nz\r\n\" id=\"DejaVuSans-53\"/>\r\n       </defs>\r\n       <use xlink:href=\"#DejaVuSans-53\"/>\r\n      </g>\r\n     </g>\r\n    </g>\r\n    <g id=\"xtick_3\">\r\n     <g id=\"line2d_3\">\r\n      <g>\r\n       <use style=\"stroke:#000000;stroke-width:0.8;\" x=\"131.395\" xlink:href=\"#mb38d57d837\" y=\"279\"/>\r\n      </g>\r\n     </g>\r\n     <g id=\"text_3\">\r\n      <!-- 10 -->\r\n      <g transform=\"translate(123.76 295.118125)scale(0.12 -0.12)\">\r\n       <defs>\r\n        <path d=\"M 12.40625 8.296875 \r\nL 28.515625 8.296875 \r\nL 28.515625 63.921875 \r\nL 10.984375 60.40625 \r\nL 10.984375 69.390625 \r\nL 28.421875 72.90625 \r\nL 38.28125 72.90625 \r\nL 38.28125 8.296875 \r\nL 54.390625 8.296875 \r\nL 54.390625 0 \r\nL 12.40625 0 \r\nz\r\n\" id=\"DejaVuSans-49\"/>\r\n       </defs>\r\n       <use xlink:href=\"#DejaVuSans-49\"/>\r\n       <use x=\"63.623047\" xlink:href=\"#DejaVuSans-48\"/>\r\n      </g>\r\n     </g>\r\n    </g>\r\n    <g id=\"xtick_4\">\r\n     <g id=\"line2d_4\">\r\n      <g>\r\n       <use style=\"stroke:#000000;stroke-width:0.8;\" x=\"179.930714\" xlink:href=\"#mb38d57d837\" y=\"279\"/>\r\n      </g>\r\n     </g>\r\n     <g id=\"text_4\">\r\n      <!-- 15 -->\r\n      <g transform=\"translate(172.295714 295.118125)scale(0.12 -0.12)\">\r\n       <use xlink:href=\"#DejaVuSans-49\"/>\r\n       <use x=\"63.623047\" xlink:href=\"#DejaVuSans-53\"/>\r\n      </g>\r\n     </g>\r\n    </g>\r\n    <g id=\"xtick_5\">\r\n     <g id=\"line2d_5\">\r\n      <g>\r\n       <use style=\"stroke:#000000;stroke-width:0.8;\" x=\"228.466429\" xlink:href=\"#mb38d57d837\" y=\"279\"/>\r\n      </g>\r\n     </g>\r\n     <g id=\"text_5\">\r\n      <!-- 20 -->\r\n      <g transform=\"translate(220.831429 295.118125)scale(0.12 -0.12)\">\r\n       <defs>\r\n        <path d=\"M 19.1875 8.296875 \r\nL 53.609375 8.296875 \r\nL 53.609375 0 \r\nL 7.328125 0 \r\nL 7.328125 8.296875 \r\nQ 12.9375 14.109375 22.625 23.890625 \r\nQ 32.328125 33.6875 34.8125 36.53125 \r\nQ 39.546875 41.84375 41.421875 45.53125 \r\nQ 43.3125 49.21875 43.3125 52.78125 \r\nQ 43.3125 58.59375 39.234375 62.25 \r\nQ 35.15625 65.921875 28.609375 65.921875 \r\nQ 23.96875 65.921875 18.8125 64.3125 \r\nQ 13.671875 62.703125 7.8125 59.421875 \r\nL 7.8125 69.390625 \r\nQ 13.765625 71.78125 18.9375 73 \r\nQ 24.125 74.21875 28.421875 74.21875 \r\nQ 39.75 74.21875 46.484375 68.546875 \r\nQ 53.21875 62.890625 53.21875 53.421875 \r\nQ 53.21875 48.921875 51.53125 44.890625 \r\nQ 49.859375 40.875 45.40625 35.40625 \r\nQ 44.1875 33.984375 37.640625 27.21875 \r\nQ 31.109375 20.453125 19.1875 8.296875 \r\nz\r\n\" id=\"DejaVuSans-50\"/>\r\n       </defs>\r\n       <use xlink:href=\"#DejaVuSans-50\"/>\r\n       <use x=\"63.623047\" xlink:href=\"#DejaVuSans-48\"/>\r\n      </g>\r\n     </g>\r\n    </g>\r\n    <g id=\"xtick_6\">\r\n     <g id=\"line2d_6\">\r\n      <g>\r\n       <use style=\"stroke:#000000;stroke-width:0.8;\" x=\"277.002143\" xlink:href=\"#mb38d57d837\" y=\"279\"/>\r\n      </g>\r\n     </g>\r\n     <g id=\"text_6\">\r\n      <!-- 25 -->\r\n      <g transform=\"translate(269.367143 295.118125)scale(0.12 -0.12)\">\r\n       <use xlink:href=\"#DejaVuSans-50\"/>\r\n       <use x=\"63.623047\" xlink:href=\"#DejaVuSans-53\"/>\r\n      </g>\r\n     </g>\r\n    </g>\r\n   </g>\r\n   <g id=\"matplotlib.axis_2\">\r\n    <g id=\"ytick_1\">\r\n     <g id=\"line2d_7\">\r\n      <defs>\r\n       <path d=\"M 0 0 \r\nL -3.5 0 \r\n\" id=\"m3eca7cf6ce\" style=\"stroke:#000000;stroke-width:0.8;\"/>\r\n      </defs>\r\n      <g>\r\n       <use style=\"stroke:#000000;stroke-width:0.8;\" x=\"29.47\" xlink:href=\"#m3eca7cf6ce\" y=\"12.053571\"/>\r\n      </g>\r\n     </g>\r\n     <g id=\"text_7\">\r\n      <!-- 0 -->\r\n      <g transform=\"translate(14.835 16.612634)scale(0.12 -0.12)\">\r\n       <use xlink:href=\"#DejaVuSans-48\"/>\r\n      </g>\r\n     </g>\r\n    </g>\r\n    <g id=\"ytick_2\">\r\n     <g id=\"line2d_8\">\r\n      <g>\r\n       <use style=\"stroke:#000000;stroke-width:0.8;\" x=\"29.47\" xlink:href=\"#m3eca7cf6ce\" y=\"60.589286\"/>\r\n      </g>\r\n     </g>\r\n     <g id=\"text_8\">\r\n      <!-- 5 -->\r\n      <g transform=\"translate(14.835 65.148348)scale(0.12 -0.12)\">\r\n       <use xlink:href=\"#DejaVuSans-53\"/>\r\n      </g>\r\n     </g>\r\n    </g>\r\n    <g id=\"ytick_3\">\r\n     <g id=\"line2d_9\">\r\n      <g>\r\n       <use style=\"stroke:#000000;stroke-width:0.8;\" x=\"29.47\" xlink:href=\"#m3eca7cf6ce\" y=\"109.125\"/>\r\n      </g>\r\n     </g>\r\n     <g id=\"text_9\">\r\n      <!-- 10 -->\r\n      <g transform=\"translate(7.2 113.684062)scale(0.12 -0.12)\">\r\n       <use xlink:href=\"#DejaVuSans-49\"/>\r\n       <use x=\"63.623047\" xlink:href=\"#DejaVuSans-48\"/>\r\n      </g>\r\n     </g>\r\n    </g>\r\n    <g id=\"ytick_4\">\r\n     <g id=\"line2d_10\">\r\n      <g>\r\n       <use style=\"stroke:#000000;stroke-width:0.8;\" x=\"29.47\" xlink:href=\"#m3eca7cf6ce\" y=\"157.660714\"/>\r\n      </g>\r\n     </g>\r\n     <g id=\"text_10\">\r\n      <!-- 15 -->\r\n      <g transform=\"translate(7.2 162.219777)scale(0.12 -0.12)\">\r\n       <use xlink:href=\"#DejaVuSans-49\"/>\r\n       <use x=\"63.623047\" xlink:href=\"#DejaVuSans-53\"/>\r\n      </g>\r\n     </g>\r\n    </g>\r\n    <g id=\"ytick_5\">\r\n     <g id=\"line2d_11\">\r\n      <g>\r\n       <use style=\"stroke:#000000;stroke-width:0.8;\" x=\"29.47\" xlink:href=\"#m3eca7cf6ce\" y=\"206.196429\"/>\r\n      </g>\r\n     </g>\r\n     <g id=\"text_11\">\r\n      <!-- 20 -->\r\n      <g transform=\"translate(7.2 210.755491)scale(0.12 -0.12)\">\r\n       <use xlink:href=\"#DejaVuSans-50\"/>\r\n       <use x=\"63.623047\" xlink:href=\"#DejaVuSans-48\"/>\r\n      </g>\r\n     </g>\r\n    </g>\r\n    <g id=\"ytick_6\">\r\n     <g id=\"line2d_12\">\r\n      <g>\r\n       <use style=\"stroke:#000000;stroke-width:0.8;\" x=\"29.47\" xlink:href=\"#m3eca7cf6ce\" y=\"254.732143\"/>\r\n      </g>\r\n     </g>\r\n     <g id=\"text_12\">\r\n      <!-- 25 -->\r\n      <g transform=\"translate(7.2 259.291205)scale(0.12 -0.12)\">\r\n       <use xlink:href=\"#DejaVuSans-50\"/>\r\n       <use x=\"63.623047\" xlink:href=\"#DejaVuSans-53\"/>\r\n      </g>\r\n     </g>\r\n    </g>\r\n   </g>\r\n   <g id=\"patch_3\">\r\n    <path d=\"M 29.47 279 \r\nL 29.47 7.2 \r\n\" style=\"fill:none;stroke:#000000;stroke-linecap:square;stroke-linejoin:miter;stroke-width:0.8;\"/>\r\n   </g>\r\n   <g id=\"patch_4\">\r\n    <path d=\"M 301.27 279 \r\nL 301.27 7.2 \r\n\" style=\"fill:none;stroke:#000000;stroke-linecap:square;stroke-linejoin:miter;stroke-width:0.8;\"/>\r\n   </g>\r\n   <g id=\"patch_5\">\r\n    <path d=\"M 29.47 279 \r\nL 301.27 279 \r\n\" style=\"fill:none;stroke:#000000;stroke-linecap:square;stroke-linejoin:miter;stroke-width:0.8;\"/>\r\n   </g>\r\n   <g id=\"patch_6\">\r\n    <path d=\"M 29.47 7.2 \r\nL 301.27 7.2 \r\n\" style=\"fill:none;stroke:#000000;stroke-linecap:square;stroke-linejoin:miter;stroke-width:0.8;\"/>\r\n   </g>\r\n  </g>\r\n </g>\r\n <defs>\r\n  <clipPath id=\"p7b39f2f909\">\r\n   <rect height=\"271.8\" width=\"271.8\" x=\"29.47\" y=\"7.2\"/>\r\n  </clipPath>\r\n </defs>\r\n</svg>\r\n",
      "image/png": "[encoded data removed]"
     },
     "metadata": {
      "needs_background": "light"
     }
    },
    {
     "output_type": "stream",
     "name": "stdout",
     "text": [
      "prediction: 8\n"
     ]
    }
   ],
   "source": [
    "###\n",
    "# REPLACE THE <addNumber> WITH ANY NUMBER BETWEEN 0 AND 1999\n",
    "###\n",
    "sample = test_X[1330].reshape(dim, dim)\n",
    "###\n",
    "graph.imshow(sample, cmap = 'gray', interpolation = 'nearest')\n",
    "graph.show()\n",
    "\n",
    "prediction = model.predict(sample.reshape(1, dim, dim, 1))\n",
    "print('prediction: %i' %(np.argmax(prediction)))"
   ]
  }
 ]
}